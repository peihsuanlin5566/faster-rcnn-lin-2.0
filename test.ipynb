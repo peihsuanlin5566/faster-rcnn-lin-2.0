{
 "cells": [
  {
   "cell_type": "code",
   "execution_count": 2,
   "metadata": {},
   "outputs": [
    {
     "name": "stdout",
     "output_type": "stream",
     "text": [
      "datanumber: 5011\n"
     ]
    }
   ],
   "source": [
    "from pro.data.vocdata import VocDataset\n",
    "label_dir = 'pro/data/dataset/VOCdevkit/VOC2007/Annotations'\n",
    "image_dir = 'pro/data/dataset/VOCdevkit/VOC2007/JPEGImages'\n",
    "voc_dataset = VocDataset(label_dir, image_dir)\n",
    "print('datanumber: {}'.format(voc_dataset.__len__()))\n",
    "# next(iter(voc_dataset))\n"
   ]
  },
  {
   "cell_type": "code",
   "execution_count": 3,
   "metadata": {},
   "outputs": [
    {
     "name": "stdout",
     "output_type": "stream",
     "text": [
      "batch number of train_data: 12,val_data: 16\n"
     ]
    }
   ],
   "source": [
    "from pro.data.vocdata import VocDataloader\n",
    "voc_dataloader= VocDataloader(voc_dataset)\n",
    "train_dataloader, val_dataloader = voc_dataloader(0.7,batch_size_train=3,sample=100)\n",
    "\n",
    "print('batch number of train_data: {},val_data: {}'.format(train_dataloader.__len__(),val_dataloader.__len__()))"
   ]
  },
  {
   "cell_type": "code",
   "execution_count": 4,
   "metadata": {},
   "outputs": [
    {
     "name": "stdout",
     "output_type": "stream",
     "text": [
      "{0: 'diningtable', 1: 'chair', 2: 'horse', 3: 'person', 4: 'tvmonitor', 5: 'bird', 6: 'cow', 7: 'dog', 8: 'bottle', 9: 'pottedplant', 10: 'aeroplane', 11: 'car', 12: 'cat', 13: 'sheep', 14: 'bicycle', 15: 'sofa', 16: 'boat', 17: 'train', 18: 'motorbike', 19: 'bus'}\n"
     ]
    }
   ],
   "source": [
    "from pro.model.model import FasterRcnn\n",
    "from pro.util.utils import get_class_dict\n",
    "\n",
    "class_name_dict = get_class_dict(label_dir)\n",
    "print(class_name_dict)\n",
    "fasterrcnn_cls = FasterRcnn(class_name_dict, device='cpu')"
   ]
  },
  {
   "cell_type": "code",
   "execution_count": 5,
   "metadata": {},
   "outputs": [],
   "source": [
    "# fasterrcnn_cls.train(train_dataloader, num_epochs=1)"
   ]
  },
  {
   "cell_type": "code",
   "execution_count": 6,
   "metadata": {},
   "outputs": [
    {
     "ename": "FileNotFoundError",
     "evalue": "[Errno 2] No such file or directory: 'output/221216-175225/train_ALL_VOC2007.cpu.pt'",
     "output_type": "error",
     "traceback": [
      "\u001b[0;31m---------------------------------------------------------------------------\u001b[0m",
      "\u001b[0;31mFileNotFoundError\u001b[0m                         Traceback (most recent call last)",
      "Cell \u001b[0;32mIn[6], line 1\u001b[0m\n\u001b[0;32m----> 1\u001b[0m fasterrcnn_cls\u001b[39m.\u001b[39;49meval(val_dataloader, \n\u001b[1;32m      2\u001b[0m             load_from\u001b[39m=\u001b[39;49m\u001b[39m'\u001b[39;49m\u001b[39moutput/221216-175225/train_ALL_VOC2007.cpu.pt\u001b[39;49m\u001b[39m'\u001b[39;49m, \n\u001b[1;32m      3\u001b[0m             plot_result\u001b[39m=\u001b[39;49m\u001b[39mTrue\u001b[39;49;00m)\n",
      "File \u001b[0;32m~/Documents/code/20221130_fastrcnn/faster-rcnn-lin-2.0/pro/model/model.py:174\u001b[0m, in \u001b[0;36mFasterRcnn.eval\u001b[0;34m(self, val_dataloader, load_from, plot_result, output_dir)\u001b[0m\n\u001b[1;32m    170\u001b[0m \u001b[39m# load the model from the input argument\u001b[39;00m\n\u001b[1;32m    171\u001b[0m \u001b[39melse\u001b[39;00m: \n\u001b[1;32m    172\u001b[0m     \u001b[39m# model_path = Path(load_from).parent / 'model.pt' \u001b[39;00m\n\u001b[1;32m    173\u001b[0m     model_path \u001b[39m=\u001b[39m Path(load_from)\n\u001b[0;32m--> 174\u001b[0m     model_load_from_weights \u001b[39m=\u001b[39m torch\u001b[39m.\u001b[39;49mload(model_path, map_location\u001b[39m=\u001b[39;49mtorch\u001b[39m.\u001b[39;49mdevice(\u001b[39m'\u001b[39;49m\u001b[39mcpu\u001b[39;49m\u001b[39m'\u001b[39;49m)) \n\u001b[1;32m    175\u001b[0m     model_load_from_weights\u001b[39m.\u001b[39mto(\u001b[39mself\u001b[39m\u001b[39m.\u001b[39mdevice)\n\u001b[1;32m    176\u001b[0m     \u001b[39mself\u001b[39m\u001b[39m.\u001b[39mmodel \u001b[39m=\u001b[39m model_load_from_weights\n",
      "File \u001b[0;32m~/Documents/code/20221130_fastrcnn/faster-rcnn-lin-2.0/.venv/lib/python3.10/site-packages/torch/serialization.py:771\u001b[0m, in \u001b[0;36mload\u001b[0;34m(f, map_location, pickle_module, weights_only, **pickle_load_args)\u001b[0m\n\u001b[1;32m    768\u001b[0m \u001b[39mif\u001b[39;00m \u001b[39m'\u001b[39m\u001b[39mencoding\u001b[39m\u001b[39m'\u001b[39m \u001b[39mnot\u001b[39;00m \u001b[39min\u001b[39;00m pickle_load_args\u001b[39m.\u001b[39mkeys():\n\u001b[1;32m    769\u001b[0m     pickle_load_args[\u001b[39m'\u001b[39m\u001b[39mencoding\u001b[39m\u001b[39m'\u001b[39m] \u001b[39m=\u001b[39m \u001b[39m'\u001b[39m\u001b[39mutf-8\u001b[39m\u001b[39m'\u001b[39m\n\u001b[0;32m--> 771\u001b[0m \u001b[39mwith\u001b[39;00m _open_file_like(f, \u001b[39m'\u001b[39;49m\u001b[39mrb\u001b[39;49m\u001b[39m'\u001b[39;49m) \u001b[39mas\u001b[39;00m opened_file:\n\u001b[1;32m    772\u001b[0m     \u001b[39mif\u001b[39;00m _is_zipfile(opened_file):\n\u001b[1;32m    773\u001b[0m         \u001b[39m# The zipfile reader is going to advance the current file position.\u001b[39;00m\n\u001b[1;32m    774\u001b[0m         \u001b[39m# If we want to actually tail call to torch.jit.load, we need to\u001b[39;00m\n\u001b[1;32m    775\u001b[0m         \u001b[39m# reset back to the original position.\u001b[39;00m\n\u001b[1;32m    776\u001b[0m         orig_position \u001b[39m=\u001b[39m opened_file\u001b[39m.\u001b[39mtell()\n",
      "File \u001b[0;32m~/Documents/code/20221130_fastrcnn/faster-rcnn-lin-2.0/.venv/lib/python3.10/site-packages/torch/serialization.py:270\u001b[0m, in \u001b[0;36m_open_file_like\u001b[0;34m(name_or_buffer, mode)\u001b[0m\n\u001b[1;32m    268\u001b[0m \u001b[39mdef\u001b[39;00m \u001b[39m_open_file_like\u001b[39m(name_or_buffer, mode):\n\u001b[1;32m    269\u001b[0m     \u001b[39mif\u001b[39;00m _is_path(name_or_buffer):\n\u001b[0;32m--> 270\u001b[0m         \u001b[39mreturn\u001b[39;00m _open_file(name_or_buffer, mode)\n\u001b[1;32m    271\u001b[0m     \u001b[39melse\u001b[39;00m:\n\u001b[1;32m    272\u001b[0m         \u001b[39mif\u001b[39;00m \u001b[39m'\u001b[39m\u001b[39mw\u001b[39m\u001b[39m'\u001b[39m \u001b[39min\u001b[39;00m mode:\n",
      "File \u001b[0;32m~/Documents/code/20221130_fastrcnn/faster-rcnn-lin-2.0/.venv/lib/python3.10/site-packages/torch/serialization.py:251\u001b[0m, in \u001b[0;36m_open_file.__init__\u001b[0;34m(self, name, mode)\u001b[0m\n\u001b[1;32m    250\u001b[0m \u001b[39mdef\u001b[39;00m \u001b[39m__init__\u001b[39m(\u001b[39mself\u001b[39m, name, mode):\n\u001b[0;32m--> 251\u001b[0m     \u001b[39msuper\u001b[39m(_open_file, \u001b[39mself\u001b[39m)\u001b[39m.\u001b[39m\u001b[39m__init__\u001b[39m(\u001b[39mopen\u001b[39;49m(name, mode))\n",
      "\u001b[0;31mFileNotFoundError\u001b[0m: [Errno 2] No such file or directory: 'output/221216-175225/train_ALL_VOC2007.cpu.pt'"
     ]
    }
   ],
   "source": [
    "fasterrcnn_cls.eval(val_dataloader, \n",
    "            load_from='output/221216-175225/model/train_ALL_VOC2007.cpu.pt', \n",
    "            plot_result=True)"
   ]
  },
  {
   "cell_type": "code",
   "execution_count": 7,
   "metadata": {},
   "outputs": [
    {
     "data": {
      "text/plain": [
       "PosixPath('output_model/221216-175225')"
      ]
     },
     "execution_count": 7,
     "metadata": {},
     "output_type": "execute_result"
    }
   ],
   "source": [
    "from pathlib import Path \n",
    "a = Path('output_model/221216-175225/train_ALL_VOC2007.cpu.pt')\n",
    "a.parent"
   ]
  },
  {
   "cell_type": "code",
   "execution_count": null,
   "metadata": {},
   "outputs": [],
   "source": []
  }
 ],
 "metadata": {
  "kernelspec": {
   "display_name": "Python 3.10.0 ('.venv': poetry)",
   "language": "python",
   "name": "python3"
  },
  "language_info": {
   "codemirror_mode": {
    "name": "ipython",
    "version": 3
   },
   "file_extension": ".py",
   "mimetype": "text/x-python",
   "name": "python",
   "nbconvert_exporter": "python",
   "pygments_lexer": "ipython3",
   "version": "3.10.0"
  },
  "orig_nbformat": 4,
  "vscode": {
   "interpreter": {
    "hash": "eb97e94ebdf1bc42cd4c39d748bee409433f111db40d9f9118289bcad2f8256e"
   }
  }
 },
 "nbformat": 4,
 "nbformat_minor": 2
}
