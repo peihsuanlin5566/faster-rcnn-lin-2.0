{
 "cells": [
  {
   "cell_type": "code",
   "execution_count": 1,
   "metadata": {},
   "outputs": [
    {
     "name": "stdout",
     "output_type": "stream",
     "text": [
      "datanumber: 5011\n"
     ]
    }
   ],
   "source": [
    "from pro.data.vocdata import VocDataset\n",
    "label_dir = 'pro/data/dataset/VOCdevkit/VOC2007/Annotations'\n",
    "image_dir = 'pro/data/dataset/VOCdevkit/VOC2007/JPEGImages'\n",
    "voc_dataset = VocDataset(label_dir, image_dir)\n",
    "print('datanumber: {}'.format(voc_dataset.__len__()))\n",
    "# next(iter(voc_dataset))\n"
   ]
  },
  {
   "cell_type": "code",
   "execution_count": 3,
   "metadata": {},
   "outputs": [
    {
     "name": "stdout",
     "output_type": "stream",
     "text": [
      "batch number of train_data: 12,val_data: 16\n"
     ]
    }
   ],
   "source": [
    "from pro.data.vocdata import VocDataloader\n",
    "voc_dataloader = VocDataloader(voc_dataset)\n",
    "train_dataloader, val_dataloader = voc_dataloader(0.7,batch_size_train=3,sample=100)\n",
    "\n",
    "print('batch number of train_data: {},val_data: {}'.format(train_dataloader.__len__(),val_dataloader.__len__()))"
   ]
  },
  {
   "cell_type": "code",
   "execution_count": 4,
   "metadata": {},
   "outputs": [],
   "source": [
    "from pro.model.model import FasterRcnn\n",
    "\"\"\"generate fasterrcnn object\n",
    "    arg: \n",
    "        class_name_dict, device\n",
    "\"\"\"\n",
    "fasterrcnn_cls = FasterRcnn(device='cpu')"
   ]
  },
  {
   "cell_type": "code",
   "execution_count": 5,
   "metadata": {},
   "outputs": [
    {
     "name": "stdout",
     "output_type": "stream",
     "text": [
      "/Users/hayashi/Documents/code/20221130_fastrcnn/faster-rcnn-lin-2.0/output/221223-182830 has been created! \n",
      "training start\n",
      "output file:  /Users/hayashi/Documents/code/20221130_fastrcnn/faster-rcnn-lin-2.0/output/221223-182830\n",
      "training at epoch0: \n"
     ]
    },
    {
     "name": "stderr",
     "output_type": "stream",
     "text": [
      "100%|██████████| 12/12 [02:14<00:00, 11.20s/it]\n"
     ]
    },
    {
     "name": "stdout",
     "output_type": "stream",
     "text": [
      "------> training at epoch0 completed; loss: 0.3572824001312256\n",
      "save the checkpoint: checkpoint_epoch000.pt\n",
      "training completed; model saved to  /Users/hayashi/Documents/code/20221130_fastrcnn/faster-rcnn-lin-2.0/output/221223-182830/model.cpu.pt\n"
     ]
    }
   ],
   "source": [
    "from pro.util.utils import get_class_dict\n",
    "\n",
    "\"\"\"get the class dictionary\"\"\"\n",
    "class_name_dict = get_class_dict(label_dir)\n",
    "\n",
    "\"\"\"training the model\"\"\"\n",
    "# fasterrcnn_cls.train(train_dataloader, class_name_dict, num_epochs=1)"
   ]
  },
  {
   "cell_type": "code",
   "execution_count": null,
   "metadata": {},
   "outputs": [],
   "source": [
    "\"\"\"train from the checkoint\"\"\"\n",
    "fasterrcnn_cls.train(train_dataloader, class_name_dict, checkpoint_f=, num_epochs=3)\n"
   ]
  },
  {
   "cell_type": "code",
   "execution_count": 6,
   "metadata": {},
   "outputs": [
    {
     "name": "stderr",
     "output_type": "stream",
     "text": [
      "100%|██████████| 16/16 [00:18<00:00,  1.13s/it]"
     ]
    },
    {
     "name": "stdout",
     "output_type": "stream",
     "text": [
      "mAP over 16 images: 0.000\n",
      "images output to /Users/hayashi/Documents/code/20221130_fastrcnn/faster-rcnn-lin-2.0/output/221223-182830/detect\n"
     ]
    },
    {
     "name": "stderr",
     "output_type": "stream",
     "text": [
      "\n"
     ]
    },
    {
     "data": {
      "text/plain": [
       "'when loading from a pretrained model: '"
      ]
     },
     "execution_count": 6,
     "metadata": {},
     "output_type": "execute_result"
    }
   ],
   "source": [
    "\"\"\"when started from the model just trained: \"\"\"\n",
    "fasterrcnn_cls.eval(val_dataloader,plot_result=True)\n",
    "\n",
    "\"\"\"when loading from a pretrained model: \"\"\" \n",
    "# fasterrcnn_cls.eval(val_dataloader,  \n",
    "#             load_from='output/221216-175225/model/train_ALL_VOC2007.cuda.pt', \n",
    "#             plot_result=True)"
   ]
  },
  {
   "cell_type": "code",
   "execution_count": null,
   "metadata": {},
   "outputs": [],
   "source": []
  }
 ],
 "metadata": {
  "kernelspec": {
   "display_name": "Python 3.10.0 ('.venv': poetry)",
   "language": "python",
   "name": "python3"
  },
  "language_info": {
   "codemirror_mode": {
    "name": "ipython",
    "version": 3
   },
   "file_extension": ".py",
   "mimetype": "text/x-python",
   "name": "python",
   "nbconvert_exporter": "python",
   "pygments_lexer": "ipython3",
   "version": "3.10.0"
  },
  "orig_nbformat": 4,
  "vscode": {
   "interpreter": {
    "hash": "eb97e94ebdf1bc42cd4c39d748bee409433f111db40d9f9118289bcad2f8256e"
   }
  }
 },
 "nbformat": 4,
 "nbformat_minor": 2
}
