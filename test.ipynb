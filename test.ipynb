{
 "cells": [
  {
   "cell_type": "code",
   "execution_count": 2,
   "metadata": {},
   "outputs": [],
   "source": [
    "from pro.data.vocdata import Xml2list"
   ]
  },
  {
   "cell_type": "code",
   "execution_count": 3,
   "metadata": {},
   "outputs": [],
   "source": [
    "l = Xml2list('pro/data/dataset/VOCdevkit/VOC2007/Annotations')"
   ]
  },
  {
   "cell_type": "code",
   "execution_count": 8,
   "metadata": {},
   "outputs": [
    {
     "name": "stdout",
     "output_type": "stream",
     "text": [
      "['chair', 'car', 'horse', 'person', 'bicycle', 'cat', 'dog', 'train', 'aeroplane', 'diningtable', 'tvmonitor', 'bird', 'bottle', 'motorbike', 'pottedplant', 'boat', 'sofa', 'sheep', 'cow', 'bus']\n"
     ]
    }
   ],
   "source": [
    "# from glob import glob \n",
    "# import numpy as np \n",
    "# import xml.etree.ElementTree as ET \n",
    "\n",
    "# def find_class(xml_dir): \n",
    "#     \"\"\" fetch the class names on the dataset\"\"\"\n",
    "#     class_name = []\n",
    "\n",
    "#     xml_files = glob(xml_dir+'/*.xml')\n",
    "#     file_num = np.array([np.int64(x[-10:-4]) for x in xml_files ])\n",
    "#     xml_files = np.array(xml_files)[np.argsort(file_num)]\n",
    "#     for xml_file in xml_files: \n",
    "#         xml = ET.parse(xml_file)\n",
    "#         for i in xml.iter('object'): \n",
    "#             obj_name = i.find('name').text \n",
    "#             if obj_name not in class_name: \n",
    "#                 class_name.append(obj_name)\n",
    "\n",
    "#     return class_name\n",
    "\n",
    "# print(find_class('pro/data/dataset/VOCdevkit/VOC2007/Annotations'))"
   ]
  },
  {
   "cell_type": "code",
   "execution_count": 6,
   "metadata": {},
   "outputs": [
    {
     "data": {
      "text/plain": [
       "array([[500., 333., 141.,  50., 500., 330.,   1.]])"
      ]
     },
     "execution_count": 6,
     "metadata": {},
     "output_type": "execute_result"
    }
   ],
   "source": [
    "l('pro/data/dataset/VOCdevkit/VOC2007/Annotations/000007.xml')"
   ]
  },
  {
   "cell_type": "code",
   "execution_count": 8,
   "metadata": {},
   "outputs": [],
   "source": [
    "import pathlib\n",
    "p_file = pathlib.Path('pro/data/dataset/VOCdevkit/VOC2007/Annotations/000007.xml')"
   ]
  },
  {
   "cell_type": "code",
   "execution_count": 9,
   "metadata": {},
   "outputs": [
    {
     "name": "stdout",
     "output_type": "stream",
     "text": [
      "pro/data/dataset/VOCdevkit/VOC2007/Annotations/000007.xml\n"
     ]
    }
   ],
   "source": [
    "print(p_file)"
   ]
  },
  {
   "cell_type": "code",
   "execution_count": 15,
   "metadata": {},
   "outputs": [
    {
     "data": {
      "text/plain": [
       "PosixPath('pro/data/dataset/VOCdevkit/VOC2007/Annotations/007826.xml')"
      ]
     },
     "execution_count": 15,
     "metadata": {},
     "output_type": "execute_result"
    }
   ],
   "source": [
    "next(iter(p_file.parent.glob('*.xml')))"
   ]
  },
  {
   "cell_type": "code",
   "execution_count": null,
   "metadata": {},
   "outputs": [],
   "source": [
    "list(p_file.parent.glob('*.xml'))"
   ]
  }
 ],
 "metadata": {
  "kernelspec": {
   "display_name": "Python 3.10.0 ('.venv': poetry)",
   "language": "python",
   "name": "python3"
  },
  "language_info": {
   "codemirror_mode": {
    "name": "ipython",
    "version": 3
   },
   "file_extension": ".py",
   "mimetype": "text/x-python",
   "name": "python",
   "nbconvert_exporter": "python",
   "pygments_lexer": "ipython3",
   "version": "3.10.0"
  },
  "orig_nbformat": 4,
  "vscode": {
   "interpreter": {
    "hash": "eb97e94ebdf1bc42cd4c39d748bee409433f111db40d9f9118289bcad2f8256e"
   }
  }
 },
 "nbformat": 4,
 "nbformat_minor": 2
}
